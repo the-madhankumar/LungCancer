{
 "cells": [
  {
   "cell_type": "code",
   "execution_count": 3,
   "metadata": {},
   "outputs": [],
   "source": [
    "import polars as pl\n",
    "import seaborn as sns\n",
    "import matplotlib.pyplot as plt\n",
    "import numpy as np"
   ]
  },
  {
   "cell_type": "code",
   "execution_count": 9,
   "metadata": {},
   "outputs": [
    {
     "data": {
      "text/html": [
       "<div><style>\n",
       ".dataframe > thead > tr,\n",
       ".dataframe > tbody > tr {\n",
       "  text-align: right;\n",
       "  white-space: pre-wrap;\n",
       "}\n",
       "</style>\n",
       "<small>shape: (5, 16)</small><table border=\"1\" class=\"dataframe\"><thead><tr><th>GENDER</th><th>AGE</th><th>SMOKING</th><th>YELLOW_FINGERS</th><th>ANXIETY</th><th>PEER_PRESSURE</th><th>CHRONIC DISEASE</th><th>FATIGUE </th><th>ALLERGY </th><th>WHEEZING</th><th>ALCOHOL CONSUMING</th><th>COUGHING</th><th>SHORTNESS OF BREATH</th><th>SWALLOWING DIFFICULTY</th><th>CHEST PAIN</th><th>LUNG_CANCER</th></tr><tr><td>str</td><td>i64</td><td>i64</td><td>i64</td><td>i64</td><td>i64</td><td>i64</td><td>i64</td><td>i64</td><td>i64</td><td>i64</td><td>i64</td><td>i64</td><td>i64</td><td>i64</td><td>str</td></tr></thead><tbody><tr><td>&quot;M&quot;</td><td>69</td><td>1</td><td>2</td><td>2</td><td>1</td><td>1</td><td>2</td><td>1</td><td>2</td><td>2</td><td>2</td><td>2</td><td>2</td><td>2</td><td>&quot;YES&quot;</td></tr><tr><td>&quot;M&quot;</td><td>74</td><td>2</td><td>1</td><td>1</td><td>1</td><td>2</td><td>2</td><td>2</td><td>1</td><td>1</td><td>1</td><td>2</td><td>2</td><td>2</td><td>&quot;YES&quot;</td></tr><tr><td>&quot;F&quot;</td><td>59</td><td>1</td><td>1</td><td>1</td><td>2</td><td>1</td><td>2</td><td>1</td><td>2</td><td>1</td><td>2</td><td>2</td><td>1</td><td>2</td><td>&quot;NO&quot;</td></tr><tr><td>&quot;M&quot;</td><td>63</td><td>2</td><td>2</td><td>2</td><td>1</td><td>1</td><td>1</td><td>1</td><td>1</td><td>2</td><td>1</td><td>1</td><td>2</td><td>2</td><td>&quot;NO&quot;</td></tr><tr><td>&quot;F&quot;</td><td>63</td><td>1</td><td>2</td><td>1</td><td>1</td><td>1</td><td>1</td><td>1</td><td>2</td><td>1</td><td>2</td><td>2</td><td>1</td><td>1</td><td>&quot;NO&quot;</td></tr></tbody></table></div>"
      ],
      "text/plain": [
       "shape: (5, 16)\n",
       "┌────────┬─────┬─────────┬──────────────┬───┬─────────────┬─────────────┬────────────┬─────────────┐\n",
       "│ GENDER ┆ AGE ┆ SMOKING ┆ YELLOW_FINGE ┆ … ┆ SHORTNESS   ┆ SWALLOWING  ┆ CHEST PAIN ┆ LUNG_CANCER │\n",
       "│ ---    ┆ --- ┆ ---     ┆ RS           ┆   ┆ OF BREATH   ┆ DIFFICULTY  ┆ ---        ┆ ---         │\n",
       "│ str    ┆ i64 ┆ i64     ┆ ---          ┆   ┆ ---         ┆ ---         ┆ i64        ┆ str         │\n",
       "│        ┆     ┆         ┆ i64          ┆   ┆ i64         ┆ i64         ┆            ┆             │\n",
       "╞════════╪═════╪═════════╪══════════════╪═══╪═════════════╪═════════════╪════════════╪═════════════╡\n",
       "│ M      ┆ 69  ┆ 1       ┆ 2            ┆ … ┆ 2           ┆ 2           ┆ 2          ┆ YES         │\n",
       "│ M      ┆ 74  ┆ 2       ┆ 1            ┆ … ┆ 2           ┆ 2           ┆ 2          ┆ YES         │\n",
       "│ F      ┆ 59  ┆ 1       ┆ 1            ┆ … ┆ 2           ┆ 1           ┆ 2          ┆ NO          │\n",
       "│ M      ┆ 63  ┆ 2       ┆ 2            ┆ … ┆ 1           ┆ 2           ┆ 2          ┆ NO          │\n",
       "│ F      ┆ 63  ┆ 1       ┆ 2            ┆ … ┆ 2           ┆ 1           ┆ 1          ┆ NO          │\n",
       "└────────┴─────┴─────────┴──────────────┴───┴─────────────┴─────────────┴────────────┴─────────────┘"
      ]
     },
     "execution_count": 9,
     "metadata": {},
     "output_type": "execute_result"
    }
   ],
   "source": [
    "df = pl.read_csv(r\"D:\\projects\\ML AND DL\\LungCancer\\Dataset\\survey lung cancer.csv\")\n",
    "df.head()"
   ]
  },
  {
   "cell_type": "code",
   "execution_count": null,
   "metadata": {},
   "outputs": [],
   "source": []
  }
 ],
 "metadata": {
  "kernelspec": {
   "display_name": "base",
   "language": "python",
   "name": "python3"
  },
  "language_info": {
   "codemirror_mode": {
    "name": "ipython",
    "version": 3
   },
   "file_extension": ".py",
   "mimetype": "text/x-python",
   "name": "python",
   "nbconvert_exporter": "python",
   "pygments_lexer": "ipython3",
   "version": "3.11.7"
  }
 },
 "nbformat": 4,
 "nbformat_minor": 2
}
